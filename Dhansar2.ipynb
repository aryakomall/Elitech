{
  "nbformat": 4,
  "nbformat_minor": 0,
  "metadata": {
    "colab": {
      "provenance": []
    },
    "kernelspec": {
      "name": "python3",
      "display_name": "Python 3"
    },
    "language_info": {
      "name": "python"
    }
  },
  "cells": [
    {
      "cell_type": "code",
      "execution_count": null,
      "metadata": {
        "id": "4VCddRZUdtNl"
      },
      "outputs": [],
      "source": [
        "import pandas as pd\n",
        "import numpy as np\n",
        "import matplotlib.pyplot as plt\n",
        "import sklearn\n",
        "import seaborn as sns"
      ]
    },
    {
      "cell_type": "code",
      "source": [
        "import pandas as pd\n",
        "\n",
        "file_path = 'Dhansar_whole22.xlsx'\n",
        "df = pd.read_excel(file_path)"
      ],
      "metadata": {
        "id": "K3TwR3O2d_Mx"
      },
      "execution_count": null,
      "outputs": []
    },
    {
      "cell_type": "code",
      "source": [
        "df.columns"
      ],
      "metadata": {
        "colab": {
          "base_uri": "https://localhost:8080/"
        },
        "id": "yliNkdxueTKG",
        "outputId": "6fa94569-4a45-463a-c431-795386982035"
      },
      "execution_count": null,
      "outputs": [
        {
          "output_type": "execute_result",
          "data": {
            "text/plain": [
              "Index(['Site', 'Date', 'Shift', 'Machine type', 'Machine No', 'Unnamed: 5',\n",
              "       'BD Time Start', 'BD Time Stop', 'Time lost', 'Repair Done',\n",
              "       'Reason of Repair', 'Reason of BD', 'Reason of Delay', 'Unnamed: 13',\n",
              "       'Unnamed: 14', 'Unnamed: 15', 'Unnamed: 16', 'Unnamed: 17',\n",
              "       'Unnamed: 18', 'Unnamed: 19'],\n",
              "      dtype='object')"
            ]
          },
          "metadata": {},
          "execution_count": 17
        }
      ]
    },
    {
      "cell_type": "code",
      "source": [
        "categories = ['Dhansar']\n",
        "fdf = df[df['Site'].isin(categories)]"
      ],
      "metadata": {
        "id": "rRFKRoMteFKx"
      },
      "execution_count": null,
      "outputs": []
    },
    {
      "cell_type": "code",
      "source": [
        "fdf['Site'].value_counts()"
      ],
      "metadata": {
        "colab": {
          "base_uri": "https://localhost:8080/"
        },
        "id": "IlQMJe0gelSg",
        "outputId": "90ab4315-d069-4eee-a1f7-4d1fc381b605"
      },
      "execution_count": null,
      "outputs": [
        {
          "output_type": "execute_result",
          "data": {
            "text/plain": [
              "Site\n",
              "Dhansar    633\n",
              "Name: count, dtype: int64"
            ]
          },
          "metadata": {},
          "execution_count": 19
        }
      ]
    },
    {
      "cell_type": "code",
      "source": [
        "fdf['Reason of Repair'].unique()"
      ],
      "metadata": {
        "colab": {
          "base_uri": "https://localhost:8080/"
        },
        "id": "oDBR_zi8erUs",
        "outputId": "a6cb31a2-7a88-488d-bca9-b47547b7320d"
      },
      "execution_count": null,
      "outputs": [
        {
          "output_type": "execute_result",
          "data": {
            "text/plain": [
              "array(['Air filter clogged up', nan, 'Tyre Puncture', 'WGM', 'Service',\n",
              "       'Bucket Replace', 'Oil leakage repair', 'Tyre Replaced', 'Others',\n",
              "       'AC Repair', 'Clutch Plate Repair/Change', 'Light Repair',\n",
              "       'Leaf Suspension Repair', 'Regular Service',\n",
              "       'Bucket Repair/Replace', 'Clutch Repair', 'Suspension Leaf Change',\n",
              "       'Tooth Pin Change', 'Lock Pin Change', 'Accident', 'Oil Change',\n",
              "       'Blade change ', 'RPM ', 'Air filter ', 'Washing', 'RPM', 'Other',\n",
              "       'Other ', 'W.G.M', 'Clutch repair', 'Clutch plate',\n",
              "       'Hydroulic oil change', 'Pick up check', 'RPM problem',\n",
              "       'Ac problem', 'Tyre Puncture WGM', 'Damage',\n",
              "       'Boon cylender I pin out', 'Break problem', 'Air filter',\n",
              "       'Accelator meter problem', 'Air down'], dtype=object)"
            ]
          },
          "metadata": {},
          "execution_count": 21
        }
      ]
    },
    {
      "cell_type": "code",
      "source": [
        "categories = ['Tyre Puncture','Tyre Replaced', 'Tyre Puncture WGM']\n",
        "fdf2 = fdf[fdf['Reason of Repair'].isin(categories)]"
      ],
      "metadata": {
        "id": "fpepxzpugA-U"
      },
      "execution_count": null,
      "outputs": []
    },
    {
      "cell_type": "code",
      "source": [
        "fdf2['Reason of Repair'].value_counts()"
      ],
      "metadata": {
        "colab": {
          "base_uri": "https://localhost:8080/"
        },
        "id": "207EBk_ogb1c",
        "outputId": "b90d8eb9-3e9b-4968-a741-eb7c8635b904"
      },
      "execution_count": null,
      "outputs": [
        {
          "output_type": "execute_result",
          "data": {
            "text/plain": [
              "Reason of Repair\n",
              "Tyre Puncture        327\n",
              "Tyre Replaced          7\n",
              "Tyre Puncture WGM      1\n",
              "Name: count, dtype: int64"
            ]
          },
          "metadata": {},
          "execution_count": 25
        }
      ]
    },
    {
      "cell_type": "code",
      "source": [
        "fdf2['Time lost'].dtype"
      ],
      "metadata": {
        "colab": {
          "base_uri": "https://localhost:8080/"
        },
        "id": "2sjsD3ZlgkB6",
        "outputId": "539a38b4-9ff2-412b-cf77-c930e9e9a695"
      },
      "execution_count": null,
      "outputs": [
        {
          "output_type": "execute_result",
          "data": {
            "text/plain": [
              "dtype('O')"
            ]
          },
          "metadata": {},
          "execution_count": 26
        }
      ]
    }
  ]
}